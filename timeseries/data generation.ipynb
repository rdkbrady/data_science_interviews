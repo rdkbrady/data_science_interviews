{
 "cells": [
  {
   "cell_type": "code",
   "execution_count": null,
   "metadata": {},
   "outputs": [],
   "source": [
    "import numpy as np\n",
    "import pandas as pd\n",
    "from matplotlib import pyplot as plt"
   ]
  },
  {
   "cell_type": "code",
   "execution_count": null,
   "metadata": {},
   "outputs": [],
   "source": [
    "days = np.arange(0, 365*2)"
   ]
  },
  {
   "cell_type": "code",
   "execution_count": null,
   "metadata": {},
   "outputs": [],
   "source": [
    "# Create some periodic data for 'temperature'\n",
    "temps = 60 + 40 * np.sin(days * 2 * np.pi / 365) + 10 * np.sin(days * 2 * np.pi / 1000) + np.random.normal(0, 5, 365*2)\n",
    "# Get sampling dates\n",
    "sampling_dates = np.random.choice(np.arange(len(temps)), 200)\n",
    "sampling_dates.sort()\n",
    "# Make a dataframe out of it\n",
    "temp_df = pd.DataFrame({'day': sampling_dates, 'temperature': temps[sampling_dates], })"
   ]
  },
  {
   "cell_type": "code",
   "execution_count": null,
   "metadata": {},
   "outputs": [],
   "source": [
    "# Formula for sales\n",
    "sales = np.round(100000 + 10000 * np.sin((days + 90) * 2 * np.pi / 365) + 5000 * np.sin(days * 2 * np.pi / 200) + (60 - temps)**2 * 10, 2)\n",
    "sales_days = np.arange(0, 365 * 2)\n",
    "sales_days = [d for d in sales_days if (d % 7) in np.arange(2,7)]\n",
    "sales_df = pd.DataFrame({'day': sales_days, 'sales': sales[sales_days]})"
   ]
  },
  {
   "cell_type": "code",
   "execution_count": null,
   "metadata": {},
   "outputs": [],
   "source": [
    "temp_df.to_csv(\"temperatures.csv\", index=False)\n",
    "sales_df.to_csv(\"sales.csv\", index=False)"
   ]
  },
  {
   "cell_type": "code",
   "execution_count": null,
   "metadata": {},
   "outputs": [],
   "source": []
  }
 ],
 "metadata": {
  "kernelspec": {
   "display_name": "Python [conda env:datasci]",
   "language": "python",
   "name": "conda-env-datasci-py"
  },
  "language_info": {
   "codemirror_mode": {
    "name": "ipython",
    "version": 3
   },
   "file_extension": ".py",
   "mimetype": "text/x-python",
   "name": "python",
   "nbconvert_exporter": "python",
   "pygments_lexer": "ipython3",
   "version": "3.8.5"
  }
 },
 "nbformat": 4,
 "nbformat_minor": 4
}
